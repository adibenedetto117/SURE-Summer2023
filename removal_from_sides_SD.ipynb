{
  "cells": [
    {
      "cell_type": "code",
      "execution_count": null,
      "metadata": {
        "colab": {
          "base_uri": "https://localhost:8080/"
        },
        "id": "dqb0-ZEk4UBg",
        "outputId": "dd3b8d73-4c7c-4642-b567-150efef05a32"
      },
      "outputs": [
        {
          "output_type": "stream",
          "name": "stdout",
          "text": [
            "Mounted at /content/gdrive\n"
          ]
        }
      ],
      "source": [
        "from google.colab import drive\n",
        "drive.mount('/content/gdrive')"
      ]
    },
    {
      "cell_type": "code",
      "execution_count": null,
      "metadata": {
        "id": "R04Us1Az4oUv"
      },
      "outputs": [],
      "source": [
        "import pandas as pd\n",
        "import numpy as np\n",
        "import torch\n",
        "import torch.nn as nn\n",
        "import torch.nn.functional as F\n",
        "from torch.utils.data import TensorDataset, DataLoader\n",
        "import matplotlib.pyplot as plt\n",
        "import time\n",
        "from sklearn.metrics import mean_absolute_error\n",
        "from sklearn.metrics import r2_score"
      ]
    },
    {
      "cell_type": "code",
      "execution_count": null,
      "metadata": {
        "colab": {
          "base_uri": "https://localhost:8080/"
        },
        "id": "ZY9W9m275Cht",
        "outputId": "0fc0f41e-7bcd-44b4-ab43-9fe14a15f486"
      },
      "outputs": [
        {
          "output_type": "stream",
          "name": "stdout",
          "text": [
            "cuda\n"
          ]
        }
      ],
      "source": [
        "# Define the device\n",
        "device = torch.device('cuda' if torch.cuda.is_available() else 'cpu')\n",
        "\n",
        "print(device)\n",
        "\n",
        "training_data = np.load('/content/gdrive/My Drive/training_n_data.npy')[:2000]\n",
        "training_std = np.load('/content/gdrive/My Drive/training_std.npy')[:2000]\n",
        "\n",
        "testing_data = np.load('/content/gdrive/My Drive/testing_n_data.npy')[:2000]\n",
        "testing_std = np.load('/content/gdrive/My Drive/testing_std.npy')[:2000]\n",
        "\n",
        "# Reshape to 2D Array\n",
        "training_data = training_data.reshape(training_data.shape[0], 3, -1)\n",
        "testing_data = testing_data.reshape(testing_data.shape[0], 3, -1)\n",
        "\n",
        "# Convert to PyTorch tensors\n",
        "training_data_tensor = torch.tensor(training_data, dtype=torch.float32).to(device)\n",
        "training_std_tensor = torch.tensor(training_std, dtype=torch.float32).to(device)\n",
        "testing_data_tensor = torch.tensor(testing_data, dtype=torch.float32).to(device)\n",
        "testing_std_tensor = torch.tensor(testing_std, dtype=torch.float32).to(device)\n",
        "\n",
        "# Create TensorDatasets\n",
        "train_dataset = TensorDataset(training_data_tensor, training_std_tensor)\n",
        "test_dataset = TensorDataset(testing_data_tensor, testing_std_tensor)\n",
        "\n",
        "# Create DataLoaders\n",
        "train_loader = DataLoader(train_dataset, batch_size=20, shuffle=True)\n",
        "test_loader = DataLoader(test_dataset, batch_size=50, shuffle=False)"
      ]
    },
    {
      "cell_type": "code",
      "execution_count": null,
      "metadata": {
        "id": "AvLG-F5v5Eq_"
      },
      "outputs": [],
      "source": [
        "class CNN(nn.Module):\n",
        "    def __init__(self, input_size):\n",
        "        super().__init__()\n",
        "        self.conv1 = nn.Conv1d(3, 82, kernel_size=4, stride=1)\n",
        "        self.fc1 = nn.Linear(82 * (input_size - 3), 512)\n",
        "        self.fc2 = nn.Linear(512, 120)\n",
        "        self.fc3 = nn.Linear(120, 10)\n",
        "        self.fc4 = nn.Linear(10, 1)\n",
        "\n",
        "    def forward(self, x):\n",
        "        x = F.relu(self.conv1(x))\n",
        "        #x = self.pool(x)\n",
        "        x = x.view(x.size(0), -1)\n",
        "        x = F.relu(self.fc1(x))\n",
        "        x = self.fc2(x)\n",
        "        x = F.relu(self.fc3(x))\n",
        "        x = self.fc4(x)\n",
        "        return x"
      ]
    },
    {
      "cell_type": "code",
      "execution_count": null,
      "metadata": {
        "id": "3m10sb5I5woT"
      },
      "outputs": [],
      "source": [
        "model = CNN(40)\n",
        "criterion = nn.L1Loss()\n",
        "optimizer = torch.optim.Adam(model.parameters(), lr=0.0001)"
      ]
    },
    {
      "cell_type": "code",
      "execution_count": null,
      "metadata": {
        "id": "1lUQ03O65rS1"
      },
      "outputs": [],
      "source": [
        "def run_model(model, train_loader, test_loader, criterion, optimizer, device, epochs=10):\n",
        "    for i in range(epochs):\n",
        "        #(f\"Starting epoch {i + 1} of {epochs}\")\n",
        "        train_loss = 0.0\n",
        "        test_loss = 0.0\n",
        "\n",
        "        model.train()\n",
        "        for b, (X_train, y_train) in enumerate(train_loader):\n",
        "            X_train, y_train = X_train.to(device), y_train.to(device)\n",
        "            y_pred = model(X_train)\n",
        "            target = y_train.view(-1, 1)\n",
        "            target = target.expand_as(y_pred)\n",
        "            loss = criterion(y_pred, target)\n",
        "            optimizer.zero_grad()\n",
        "            loss.backward()\n",
        "            optimizer.step()\n",
        "            train_loss += loss.item()\n",
        "\n",
        "        average_train_loss = train_loss / len(train_loader)\n",
        "        #print(f\"Average training loss for epoch {i + 1}: {average_train_loss}\")\n",
        "\n",
        "        model.eval()\n",
        "        with torch.no_grad():\n",
        "            for X_test, y_test in test_loader:\n",
        "                X_test, y_test = X_test.to(device), y_test.to(device)\n",
        "                y_val = model(X_test)\n",
        "                target = y_test.view(-1, 1)\n",
        "                target = target.expand_as(y_val)\n",
        "                loss = criterion(y_val, target)\n",
        "                test_loss += loss.item()\n",
        "\n",
        "        average_test_loss = test_loss / len(test_loader)\n",
        "        if i % (epochs//2) == 0:\n",
        "          print(f\"Epoch {i}/{epochs} | Testing Loss: {average_test_loss} | Training Loss: {average_train_loss} \")\n",
        "\n",
        "    return average_train_loss, average_test_loss"
      ]
    },
    {
      "cell_type": "code",
      "execution_count": null,
      "metadata": {
        "id": "2gMFnRvDDxnw"
      },
      "outputs": [],
      "source": [
        "def removal_from_sides(model, train_loader, test_loader, criterion, optimizer, device, epochs=15):\n",
        "    results = []  # list to hold the results\n",
        "\n",
        "    for i in range(train_loader.dataset.tensors[0].size(2), 0, -1):\n",
        "        if i <= 3:\n",
        "          break\n",
        "        else:\n",
        "          for side in ['left', 'right']:\n",
        "              print(f\"Training with {i} features, removing from {side}\")\n",
        "\n",
        "              if side == 'left':\n",
        "                  train_data = train_loader.dataset.tensors[0][:, :, :i].clone()\n",
        "                  test_data = test_loader.dataset.tensors[0][:, :, :i].clone()\n",
        "              else:  # 'right'\n",
        "                  train_data = train_loader.dataset.tensors[0][:, :, -i:].clone()\n",
        "                  test_data = test_loader.dataset.tensors[0][:, :, -i:].clone()\n",
        "\n",
        "              input_size = train_data.size(2)  # Update the input size\n",
        "\n",
        "              model = CNN(input_size)  # Update the model initialization\n",
        "              model.to(device)\n",
        "              optimizer = torch.optim.Adam(model.parameters(), lr=0.0001)\n",
        "\n",
        "              train_loader_ablated = torch.utils.data.DataLoader(\n",
        "                  torch.utils.data.TensorDataset(train_data, train_loader.dataset.tensors[1]),\n",
        "                  batch_size=train_loader.batch_size,\n",
        "                  shuffle=True\n",
        "              )\n",
        "\n",
        "              test_loader_ablated = torch.utils.data.DataLoader(\n",
        "                  torch.utils.data.TensorDataset(test_data, test_loader.dataset.tensors[1]),\n",
        "                  batch_size=test_loader.batch_size,\n",
        "              )\n",
        "\n",
        "              average_train_loss, average_test_loss = run_model(\n",
        "                  model, train_loader_ablated, test_loader_ablated, criterion, optimizer, device, epochs\n",
        "              )\n",
        "\n",
        "              results.append((i, side, average_train_loss, average_test_loss))\n",
        "\n",
        "    return results\n"
      ]
    },
    {
      "cell_type": "code",
      "execution_count": null,
      "metadata": {
        "id": "4FOa0_B_7-CS"
      },
      "outputs": [],
      "source": [
        "results = removal_from_sides(model, train_loader, test_loader, criterion, optimizer, device, epochs=100)"
      ]
    },
    {
      "cell_type": "code",
      "execution_count": null,
      "metadata": {
        "id": "QUfNDmqs77ea"
      },
      "outputs": [],
      "source": [
        "def plot_results(results):\n",
        "    num_features = [r[0] for r in results]\n",
        "    sides = [r[1] for r in results]\n",
        "    MAE = [r[3] for r in results]\n",
        "\n",
        "    fig, ax = plt.subplots(figsize=(10,4))\n",
        "    plt.xticks(fontsize=20)\n",
        "    plt.yticks(fontsize=20)\n",
        "\n",
        "    ax.scatter(num_features[::2], MAE[::2], label='From Left')\n",
        "    ax.scatter(num_features[1::2], MAE[1::2], label='From Right')\n",
        "    ax.set_xlabel('Number of Features Per Channel')\n",
        "    ax.set_ylabel('MAE')\n",
        "    ax.legend(fontsize=15)\n",
        "    ax.set_ylim(0, 0.255)\n",
        "    ax.invert_xaxis()\n",
        "    plt.show()\n"
      ]
    },
    {
      "cell_type": "code",
      "execution_count": null,
      "metadata": {
        "colab": {
          "base_uri": "https://localhost:8080/",
          "height": 407
        },
        "id": "a3_gcO9u7_hf",
        "outputId": "bc85c531-8acf-45ad-b864-d5fe3bda428a"
      },
      "outputs": [
        {
          "output_type": "display_data",
          "data": {
            "text/plain": [
              "<Figure size 1000x400 with 1 Axes>"
            ],
            "image/png": "[encoded data removed]"
          },
          "metadata": {}
        }
      ],
      "source": [
        "plot_results(results)"
      ]
    },
    {
      "cell_type": "code",
      "execution_count": null,
      "metadata": {
        "id": "yGjebcDY3qpX"
      },
      "outputs": [],
      "source": []
    }
  ],
  "metadata": {
    "accelerator": "GPU",
    "colab": {
      "provenance": [],
      "gpuType": "T4"
    },
    "kernelspec": {
      "display_name": "Python 3",
      "name": "python3"
    },
    "language_info": {
      "name": "python"
    }
  },
  "nbformat": 4,
  "nbformat_minor": 0
}